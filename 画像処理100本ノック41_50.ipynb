{
  "nbformat": 4,
  "nbformat_minor": 0,
  "metadata": {
    "colab": {
      "name": "画像処理100本ノック41-50.ipynb",
      "version": "0.3.2",
      "provenance": [],
      "collapsed_sections": [],
      "include_colab_link": true
    },
    "kernelspec": {
      "name": "python3",
      "display_name": "Python 3"
    }
  },
  "cells": [
    {
      "cell_type": "markdown",
      "metadata": {
        "id": "view-in-github",
        "colab_type": "text"
      },
      "source": [
        "<a href=\"https://colab.research.google.com/github/katoyu/image-processing-100training/blob/master/%E7%94%BB%E5%83%8F%E5%87%A6%E7%90%86100%E6%9C%AC%E3%83%8E%E3%83%83%E3%82%AF41_50.ipynb\" target=\"_parent\"><img src=\"https://colab.research.google.com/assets/colab-badge.svg\" alt=\"Open In Colab\"/></a>"
      ]
    },
    {
      "metadata": {
        "id": "rP1v6guOM6cZ",
        "colab_type": "code",
        "outputId": "186bde1d-e198-4f73-9bc7-6d3ec76186ea",
        "colab": {
          "base_uri": "https://localhost:8080/",
          "height": 391
        }
      },
      "cell_type": "code",
      "source": [
        "!wget https://raw.githubusercontent.com/yoyoyo-yo/Gasyori100knock/master/Question_41_50/imori.jpg\n",
        "!wget https://raw.githubusercontent.com/yoyoyo-yo/Gasyori100knock/master/Question_41_50/thorino.jpg\n",
        "  \n",
        "from google.colab.patches import cv2_imshow"
      ],
      "execution_count": 1,
      "outputs": [
        {
          "output_type": "stream",
          "text": [
            "--2019-04-22 14:54:21--  https://raw.githubusercontent.com/yoyoyo-yo/Gasyori100knock/master/Question_41_50/imori.jpg\n",
            "Resolving raw.githubusercontent.com (raw.githubusercontent.com)... 151.101.0.133, 151.101.64.133, 151.101.128.133, ...\n",
            "Connecting to raw.githubusercontent.com (raw.githubusercontent.com)|151.101.0.133|:443... connected.\n",
            "HTTP request sent, awaiting response... 200 OK\n",
            "Length: 12638 (12K) [image/jpeg]\n",
            "Saving to: ‘imori.jpg’\n",
            "\n",
            "imori.jpg           100%[===================>]  12.34K  --.-KB/s    in 0s      \n",
            "\n",
            "2019-04-22 14:54:26 (127 MB/s) - ‘imori.jpg’ saved [12638/12638]\n",
            "\n",
            "--2019-04-22 14:54:29--  https://raw.githubusercontent.com/yoyoyo-yo/Gasyori100knock/master/Question_41_50/thorino.jpg\n",
            "Resolving raw.githubusercontent.com (raw.githubusercontent.com)... 151.101.0.133, 151.101.64.133, 151.101.128.133, ...\n",
            "Connecting to raw.githubusercontent.com (raw.githubusercontent.com)|151.101.0.133|:443... connected.\n",
            "HTTP request sent, awaiting response... 200 OK\n",
            "Length: 27023 (26K) [image/jpeg]\n",
            "Saving to: ‘thorino.jpg’\n",
            "\n",
            "thorino.jpg         100%[===================>]  26.39K  --.-KB/s    in 0.01s   \n",
            "\n",
            "2019-04-22 14:54:29 (2.07 MB/s) - ‘thorino.jpg’ saved [27023/27023]\n",
            "\n"
          ],
          "name": "stdout"
        }
      ]
    },
    {
      "metadata": {
        "id": "Dey8ZxwCNCir",
        "colab_type": "text"
      },
      "cell_type": "markdown",
      "source": [
        "#41 Cannyエッジ検出 (Step.1) エッジ強度"
      ]
    },
    {
      "metadata": {
        "id": "VRsCWSk2ND6y",
        "colab_type": "code",
        "outputId": "252aad36-4775-4f9d-b358-b50481484820",
        "colab": {
          "base_uri": "https://localhost:8080/",
          "height": 273
        }
      },
      "cell_type": "code",
      "source": [
        "import cv2\n",
        "import numpy as np\n",
        "\n",
        "img = cv2.imread(\"imori.jpg\").astype(np.float32)\n",
        "H, W, C = img.shape\n",
        "#1. グレースケール\n",
        "gray = 0.2126 * img[..., 2] + 0.7152 * img[..., 1] + 0.0722 * img[..., 0]\n",
        "\n",
        "#2. gaussianフィルタ 5x5 s=1.4\n",
        "K_size = 5\n",
        "sigma = 1.4\n",
        "\n",
        "##zero padding\n",
        "pad = K_size // 2\n",
        "gau = np.zeros((H + pad*2, W + pad*2), dtype=np.float32)\n",
        "gau = np.pad(gray, (pad, pad), 'edge')\n",
        "tmp = gau.copy()\n",
        "\n",
        "##Karnel\n",
        "K = np.zeros((K_size, K_size), dtype=np.float32)\n",
        "for x in range(-pad, -pad+K_size):\n",
        "    for y in range(-pad, -pad+K_size):\n",
        "           K[y+pad, x+pad] = np.exp( -(x**2 + y**2) / (2 * (sigma**2)))\n",
        "            \n",
        "K /= (sigma * np.sqrt(2 * np.pi))\n",
        "K /= K.sum()\n",
        "\n",
        "#3. x,y方向のSobelフィルタをかけ、画像の購買画像fx,fyを求め、勾配強度と勾配角度を次式で求める\n",
        "\n",
        "for y in range(H):\n",
        "    for x in range(W):\n",
        "        gau[pad+y, pad+x] = np.sum(K * tmp[y:y+K_size, x:x+K_size])\n",
        "        \n",
        "##Sobel vertical\n",
        "KSV = np.array(((-1., -2., -1.), (0., 0., 0.), (1., 2., 1.)), dtype=np.float32)\n",
        "##Sobel horizontal\n",
        "KSH = np.array(((-1., 0., 1.), (-2., 0., 2.), (-1., 0., 1.)), dtype=np.float32)\n",
        "\n",
        "gau = gau[pad-1:H+pad+1, pad-1:W+pad+1]\n",
        "fy = np.zeros_like(gau, dtype=np.float32)\n",
        "fx  =np.zeros_like(gau, dtype=np.float32)\n",
        "K_size = 3\n",
        "pad = K_size//2\n",
        "\n",
        "for y in range(H):\n",
        "    for x in range(W):\n",
        "        fy[pad+y, pad+x] = np.sum(KSV * gau[y:y+K_size, x:x+K_size])\n",
        "        fx[pad+y, pad+x] = np.sum(KSH * gau[y:y+K_size, x:x+K_size])\n",
        "\n",
        "fx = fx[pad:pad+H, pad:pad+W]\n",
        "fy = fy[pad:pad+H, pad:pad+W]\n",
        "\n",
        "# Non-maximum suppression\n",
        "\n",
        "edge = np.sqrt(fx**2 + fy**2)\n",
        "\n",
        "out1 = edge.astype(np.uint8)\n",
        "cv2_imshow(out1)\n",
        "\n",
        "fx[fx==0] = 1e-5\n",
        "tan = np.arctan(fy/ fx)\n",
        "\n",
        "\n",
        "#4. ヒステリシスによる閾値処理\n",
        "\n",
        "angle = np.zeros_like(tan, dtype=np.uint8)\n",
        "angle[np.where((tan > -0.4142) & (tan <= 0.4142))] = 0\n",
        "angle[np.where((tan > 0.4142 ) & (tan  <2.4142))] = 45\n",
        "angle[np.where((np.abs(tan)) >= 2.4142)] = 90\n",
        "angle[np.where((tan > -2.4142) & (tan <= -0.4142))] = 135\n",
        "\n",
        "out2 = angle.astype(np.uint8)\n",
        "\n",
        "cv2_imshow(out2)"
      ],
      "execution_count": 0,
      "outputs": [
        {
          "output_type": "display_data",
          "data": {
            "image/png": "[encoded data removed]",
            "text/plain": [
              "<PIL.Image.Image image mode=L size=128x128 at 0x7FE14B4716D8>"
            ]
          },
          "metadata": {
            "tags": []
          }
        },
        {
          "output_type": "display_data",
          "data": {
            "image/png": "[encoded data removed]",
            "text/plain": [
              "<PIL.Image.Image image mode=L size=128x128 at 0x7FE14B471668>"
            ]
          },
          "metadata": {
            "tags": []
          }
        }
      ]
    },
    {
      "metadata": {
        "id": "Fo51m73QT5zJ",
        "colab_type": "code",
        "colab": {}
      },
      "cell_type": "code",
      "source": [
        ""
      ],
      "execution_count": 0,
      "outputs": []
    }
  ]
}