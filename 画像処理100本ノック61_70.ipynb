{
  "nbformat": 4,
  "nbformat_minor": 0,
  "metadata": {
    "colab": {
      "name": "画像処理100本ノック61-70.ipynb",
      "version": "0.3.2",
      "provenance": [],
      "collapsed_sections": [],
      "include_colab_link": true
    },
    "kernelspec": {
      "name": "python3",
      "display_name": "Python 3"
    }
  },
  "cells": [
    {
      "cell_type": "markdown",
      "metadata": {
        "id": "view-in-github",
        "colab_type": "text"
      },
      "source": [
        "<a href=\"https://colab.research.google.com/github/katoyu/image-processing-100training/blob/master/%E7%94%BB%E5%83%8F%E5%87%A6%E7%90%86100%E6%9C%AC%E3%83%8E%E3%83%83%E3%82%AF61_70.ipynb\" target=\"_parent\"><img src=\"https://colab.research.google.com/assets/colab-badge.svg\" alt=\"Open In Colab\"/></a>"
      ]
    },
    {
      "metadata": {
        "id": "Iynvc2JN9Ra9",
        "colab_type": "code",
        "colab": {
          "base_uri": "https://localhost:8080/",
          "height": 578
        },
        "outputId": "c40c0957-9013-431a-b6d7-0b75fc8cfcb6"
      },
      "cell_type": "code",
      "source": [
        "!wget https://raw.githubusercontent.com/yoyoyo-yo/Gasyori100knock/master/Question_61_70/imori.jpg\n",
        "!wget https://raw.githubusercontent.com/yoyoyo-yo/Gasyori100knock/master/Question_61_70/gazo.png\n",
        "!wget https://raw.githubusercontent.com/yoyoyo-yo/Gasyori100knock/master/Question_61_70/renketsu.png\n",
        "  \n",
        "from google.colab.patches import cv2_imshow"
      ],
      "execution_count": 1,
      "outputs": [
        {
          "output_type": "stream",
          "text": [
            "--2019-05-02 14:35:33--  https://raw.githubusercontent.com/yoyoyo-yo/Gasyori100knock/master/Question_61_70/imori.jpg\n",
            "Resolving raw.githubusercontent.com (raw.githubusercontent.com)... 151.101.0.133, 151.101.64.133, 151.101.128.133, ...\n",
            "Connecting to raw.githubusercontent.com (raw.githubusercontent.com)|151.101.0.133|:443... connected.\n",
            "HTTP request sent, awaiting response... 200 OK\n",
            "Length: 12638 (12K) [image/jpeg]\n",
            "Saving to: ‘imori.jpg’\n",
            "\n",
            "\rimori.jpg             0%[                    ]       0  --.-KB/s               \rimori.jpg           100%[===================>]  12.34K  --.-KB/s    in 0s      \n",
            "\n",
            "2019-05-02 14:35:33 (129 MB/s) - ‘imori.jpg’ saved [12638/12638]\n",
            "\n",
            "--2019-05-02 14:35:34--  https://raw.githubusercontent.com/yoyoyo-yo/Gasyori100knock/master/Question_61_70/gazo.png\n",
            "Resolving raw.githubusercontent.com (raw.githubusercontent.com)... 151.101.0.133, 151.101.64.133, 151.101.128.133, ...\n",
            "Connecting to raw.githubusercontent.com (raw.githubusercontent.com)|151.101.0.133|:443... connected.\n",
            "HTTP request sent, awaiting response... 200 OK\n",
            "Length: 877 [image/png]\n",
            "Saving to: ‘gazo.png’\n",
            "\n",
            "gazo.png            100%[===================>]     877  --.-KB/s    in 0s      \n",
            "\n",
            "2019-05-02 14:35:34 (135 MB/s) - ‘gazo.png’ saved [877/877]\n",
            "\n",
            "--2019-05-02 14:35:35--  https://raw.githubusercontent.com/yoyoyo-yo/Gasyori100knock/master/Question_61_70/renketsu.png\n",
            "Resolving raw.githubusercontent.com (raw.githubusercontent.com)... 151.101.0.133, 151.101.64.133, 151.101.128.133, ...\n",
            "Connecting to raw.githubusercontent.com (raw.githubusercontent.com)|151.101.0.133|:443... connected.\n",
            "HTTP request sent, awaiting response... 200 OK\n",
            "Length: 102 [image/png]\n",
            "Saving to: ‘renketsu.png’\n",
            "\n",
            "renketsu.png        100%[===================>]     102  --.-KB/s    in 0s      \n",
            "\n",
            "2019-05-02 14:35:35 (17.4 MB/s) - ‘renketsu.png’ saved [102/102]\n",
            "\n"
          ],
          "name": "stdout"
        }
      ]
    },
    {
      "metadata": {
        "id": "AW4rgL3x-Pwk",
        "colab_type": "text"
      },
      "cell_type": "markdown",
      "source": [
        "#61 4-連結数"
      ]
    },
    {
      "metadata": {
        "id": "mVrp_9w3-LOE",
        "colab_type": "code",
        "colab": {
          "base_uri": "https://localhost:8080/",
          "height": 34
        },
        "outputId": "57792437-a037-41be-8036-b934ba815e62"
      },
      "cell_type": "code",
      "source": [
        "import cv2\n",
        "import numpy as np\n",
        "\n",
        "img = cv2.imread(\"renketsu.png\").astype(np.float32)\n",
        "H, W, C = img.shape\n",
        "\n",
        "tmp = np.zeros((H, W), dtype=np.int)\n",
        "tmp[img[..., 0]>0] = 1\n",
        "\n",
        "out = np.zeros((H, W, 3), dtype=np.uint8)\n",
        "\n",
        "for y in range(H):\n",
        "    for x in range(W):\n",
        "        if tmp[y, x] < 1:\n",
        "            continue\n",
        " #分類がCの値（0~4）でできる           \n",
        "        c = 0\n",
        "        c += (tmp[y,min(x+1,W-1)] - tmp[y,min(x+1,W-1)] * tmp[max(y-1,0),min(x+1,W-1)] * tmp[max(y-1,0),x])\n",
        "        c += (tmp[max(y-1,0),x] - tmp[max(y-1,0),x] * tmp[max(y-1,0),max(x-1,0)] * tmp[y,max(x-1,0)])\n",
        "        c += (tmp[y,max(x-1,0)] - tmp[y,max(x-1,0)] * tmp[min(y+1,H-1),max(x-1,0)] * tmp[min(y+1,H-1),x])\n",
        "        c += (tmp[min(y+1,H-1),x] - tmp[min(y+1,H-1),x] * tmp[min(y+1,H-1),min(x+1,W-1)] * tmp[y,min(x+1,W-1)])\n",
        "#色付\n",
        "        if c == 0:\n",
        "            out[y,x] = [0, 0, 255]\n",
        "        elif c == 1:\n",
        "            out[y,x] = [0, 255, 0]\n",
        "        elif c == 2:\n",
        "            out[y,x] = [255, 0, 0]\n",
        "        elif c == 3:\n",
        "            out[y,x] = [255, 255, 0]\n",
        "        elif c == 4:\n",
        "            out[y,x] = [255, 0, 255]\n",
        "                \n",
        "out = out.astype(np.uint8)\n",
        "cv2_imshow(out)"
      ],
      "execution_count": 4,
      "outputs": [
        {
          "output_type": "display_data",
          "data": {
            "image/png": "[encoded data removed]",
            "text/plain": [
              "<PIL.Image.Image image mode=RGB size=10x10 at 0x7FC04ED68780>"
            ]
          },
          "metadata": {
            "tags": []
          }
        }
      ]
    },
    {
      "metadata": {
        "id": "p2ZYp-OGADvM",
        "colab_type": "text"
      },
      "cell_type": "markdown",
      "source": [
        "#62 8-連結数"
      ]
    },
    {
      "metadata": {
        "id": "5KeQxom-_1lj",
        "colab_type": "code",
        "colab": {
          "base_uri": "https://localhost:8080/",
          "height": 34
        },
        "outputId": "b4c0f761-cb3f-48d8-ce86-749fd2506ee2"
      },
      "cell_type": "code",
      "source": [
        "import cv2\n",
        "import numpy as np\n",
        "\n",
        "img = cv2.imread(\"renketsu.png\").astype(np.float32)\n",
        "H, W, C = img.shape\n",
        "\n",
        "_tmp = np.zeros((H, W), dtype=np.int)\n",
        "_tmp[img[..., 0]>0] = 1\n",
        "#01を反転させて処理するために初めから反転させておく\n",
        "tmp = 1 - _tmp\n",
        "\n",
        "out = np.zeros((H, W, 3), dtype=np.uint8)\n",
        "\n",
        "for y in range(H):\n",
        "    for x in range(W):\n",
        "        if _tmp[y, x] < 1:\n",
        "            continue\n",
        " #分類がCの値（0~4）でできる           \n",
        "        c = 0\n",
        "        c += (tmp[y,min(x+1,W-1)] - tmp[y,min(x+1,W-1)] * tmp[max(y-1,0),min(x+1,W-1)] * tmp[max(y-1,0),x])\n",
        "        c += (tmp[max(y-1,0),x] - tmp[max(y-1,0),x] * tmp[max(y-1,0),max(x-1,0)] * tmp[y,max(x-1,0)])\n",
        "        c += (tmp[y,max(x-1,0)] - tmp[y,max(x-1,0)] * tmp[min(y+1,H-1),max(x-1,0)] * tmp[min(y+1,H-1),x])\n",
        "        c += (tmp[min(y+1,H-1),x] - tmp[min(y+1,H-1),x] * tmp[min(y+1,H-1),min(x+1,W-1)] * tmp[y,min(x+1,W-1)])\n",
        "#色付\n",
        "        if c == 0:\n",
        "            out[y,x] = [0, 0, 255]\n",
        "        elif c == 1:\n",
        "            out[y,x] = [0, 255, 0]\n",
        "        elif c == 2:\n",
        "            out[y,x] = [255, 0, 0]\n",
        "        elif c == 3:\n",
        "            out[y,x] = [255, 255, 0]\n",
        "        elif c == 4:\n",
        "            out[y,x] = [255, 0, 255]\n",
        "                \n",
        "out = out.astype(np.uint8)\n",
        "cv2_imshow(out)"
      ],
      "execution_count": 6,
      "outputs": [
        {
          "output_type": "display_data",
          "data": {
            "image/png": "[encoded data removed]",
            "text/plain": [
              "<PIL.Image.Image image mode=RGB size=10x10 at 0x7FC04ECFBF98>"
            ]
          },
          "metadata": {
            "tags": []
          }
        }
      ]
    },
    {
      "metadata": {
        "id": "L6OUC8AiATcV",
        "colab_type": "code",
        "colab": {}
      },
      "cell_type": "code",
      "source": [
        ""
      ],
      "execution_count": 0,
      "outputs": []
    }
  ]
}