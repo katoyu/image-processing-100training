{
  "nbformat": 4,
  "nbformat_minor": 0,
  "metadata": {
    "colab": {
      "name": "画像処理100本ノック61-70.ipynb",
      "version": "0.3.2",
      "provenance": [],
      "collapsed_sections": [],
      "include_colab_link": true
    },
    "kernelspec": {
      "name": "python3",
      "display_name": "Python 3"
    }
  },
  "cells": [
    {
      "cell_type": "markdown",
      "metadata": {
        "id": "view-in-github",
        "colab_type": "text"
      },
      "source": [
        "<a href=\"https://colab.research.google.com/github/katoyu/image-processing-100training/blob/master/%E7%94%BB%E5%83%8F%E5%87%A6%E7%90%86100%E6%9C%AC%E3%83%8E%E3%83%83%E3%82%AF61_70.ipynb\" target=\"_parent\"><img src=\"https://colab.research.google.com/assets/colab-badge.svg\" alt=\"Open In Colab\"/></a>"
      ]
    },
    {
      "cell_type": "code",
      "metadata": {
        "id": "Iynvc2JN9Ra9",
        "colab_type": "code",
        "outputId": "56f70f45-d567-4b6f-cbda-4aee4a1df93d",
        "colab": {
          "base_uri": "https://localhost:8080/",
          "height": 578
        }
      },
      "source": [
        "!wget https://raw.githubusercontent.com/yoyoyo-yo/Gasyori100knock/master/Question_61_70/imori.jpg\n",
        "!wget https://raw.githubusercontent.com/yoyoyo-yo/Gasyori100knock/master/Question_61_70/gazo.png\n",
        "!wget https://raw.githubusercontent.com/yoyoyo-yo/Gasyori100knock/master/Question_61_70/renketsu.png\n",
        "  \n",
        "from google.colab.patches import cv2_imshow"
      ],
      "execution_count": 1,
      "outputs": [
        {
          "output_type": "stream",
          "text": [
            "--2019-05-04 08:59:45--  https://raw.githubusercontent.com/yoyoyo-yo/Gasyori100knock/master/Question_61_70/imori.jpg\n",
            "Resolving raw.githubusercontent.com (raw.githubusercontent.com)... 151.101.0.133, 151.101.64.133, 151.101.128.133, ...\n",
            "Connecting to raw.githubusercontent.com (raw.githubusercontent.com)|151.101.0.133|:443... connected.\n",
            "HTTP request sent, awaiting response... 200 OK\n",
            "Length: 12638 (12K) [image/jpeg]\n",
            "Saving to: ‘imori.jpg’\n",
            "\n",
            "\rimori.jpg             0%[                    ]       0  --.-KB/s               \rimori.jpg           100%[===================>]  12.34K  --.-KB/s    in 0s      \n",
            "\n",
            "2019-05-04 08:59:45 (103 MB/s) - ‘imori.jpg’ saved [12638/12638]\n",
            "\n",
            "--2019-05-04 08:59:46--  https://raw.githubusercontent.com/yoyoyo-yo/Gasyori100knock/master/Question_61_70/gazo.png\n",
            "Resolving raw.githubusercontent.com (raw.githubusercontent.com)... 151.101.0.133, 151.101.64.133, 151.101.128.133, ...\n",
            "Connecting to raw.githubusercontent.com (raw.githubusercontent.com)|151.101.0.133|:443... connected.\n",
            "HTTP request sent, awaiting response... 200 OK\n",
            "Length: 877 [image/png]\n",
            "Saving to: ‘gazo.png’\n",
            "\n",
            "gazo.png            100%[===================>]     877  --.-KB/s    in 0s      \n",
            "\n",
            "2019-05-04 08:59:46 (137 MB/s) - ‘gazo.png’ saved [877/877]\n",
            "\n",
            "--2019-05-04 08:59:47--  https://raw.githubusercontent.com/yoyoyo-yo/Gasyori100knock/master/Question_61_70/renketsu.png\n",
            "Resolving raw.githubusercontent.com (raw.githubusercontent.com)... 151.101.0.133, 151.101.64.133, 151.101.128.133, ...\n",
            "Connecting to raw.githubusercontent.com (raw.githubusercontent.com)|151.101.0.133|:443... connected.\n",
            "HTTP request sent, awaiting response... 200 OK\n",
            "Length: 102 [image/png]\n",
            "Saving to: ‘renketsu.png’\n",
            "\n",
            "renketsu.png        100%[===================>]     102  --.-KB/s    in 0s      \n",
            "\n",
            "2019-05-04 08:59:48 (16.4 MB/s) - ‘renketsu.png’ saved [102/102]\n",
            "\n"
          ],
          "name": "stdout"
        }
      ]
    },
    {
      "cell_type": "markdown",
      "metadata": {
        "id": "AW4rgL3x-Pwk",
        "colab_type": "text"
      },
      "source": [
        "#61 4-連結数"
      ]
    },
    {
      "cell_type": "code",
      "metadata": {
        "id": "mVrp_9w3-LOE",
        "colab_type": "code",
        "outputId": "57792437-a037-41be-8036-b934ba815e62",
        "colab": {
          "base_uri": "https://localhost:8080/",
          "height": 34
        }
      },
      "source": [
        "import cv2\n",
        "import numpy as np\n",
        "\n",
        "img = cv2.imread(\"renketsu.png\").astype(np.float32)\n",
        "H, W, C = img.shape\n",
        "\n",
        "tmp = np.zeros((H, W), dtype=np.int)\n",
        "tmp[img[..., 0]>0] = 1\n",
        "\n",
        "out = np.zeros((H, W, 3), dtype=np.uint8)\n",
        "\n",
        "for y in range(H):\n",
        "    for x in range(W):\n",
        "        if tmp[y, x] < 1:\n",
        "            continue\n",
        " #分類がCの値（0~4）でできる           \n",
        "        c = 0\n",
        "        c += (tmp[y,min(x+1,W-1)] - tmp[y,min(x+1,W-1)] * tmp[max(y-1,0),min(x+1,W-1)] * tmp[max(y-1,0),x])\n",
        "        c += (tmp[max(y-1,0),x] - tmp[max(y-1,0),x] * tmp[max(y-1,0),max(x-1,0)] * tmp[y,max(x-1,0)])\n",
        "        c += (tmp[y,max(x-1,0)] - tmp[y,max(x-1,0)] * tmp[min(y+1,H-1),max(x-1,0)] * tmp[min(y+1,H-1),x])\n",
        "        c += (tmp[min(y+1,H-1),x] - tmp[min(y+1,H-1),x] * tmp[min(y+1,H-1),min(x+1,W-1)] * tmp[y,min(x+1,W-1)])\n",
        "#色付\n",
        "        if c == 0:\n",
        "            out[y,x] = [0, 0, 255]\n",
        "        elif c == 1:\n",
        "            out[y,x] = [0, 255, 0]\n",
        "        elif c == 2:\n",
        "            out[y,x] = [255, 0, 0]\n",
        "        elif c == 3:\n",
        "            out[y,x] = [255, 255, 0]\n",
        "        elif c == 4:\n",
        "            out[y,x] = [255, 0, 255]\n",
        "                \n",
        "out = out.astype(np.uint8)\n",
        "cv2_imshow(out)"
      ],
      "execution_count": 0,
      "outputs": [
        {
          "output_type": "display_data",
          "data": {
            "image/png": "[encoded data removed]",
            "text/plain": [
              "<PIL.Image.Image image mode=RGB size=10x10 at 0x7FC04ED68780>"
            ]
          },
          "metadata": {
            "tags": []
          }
        }
      ]
    },
    {
      "cell_type": "markdown",
      "metadata": {
        "id": "p2ZYp-OGADvM",
        "colab_type": "text"
      },
      "source": [
        "#62 8-連結数"
      ]
    },
    {
      "cell_type": "code",
      "metadata": {
        "id": "5KeQxom-_1lj",
        "colab_type": "code",
        "outputId": "b4c0f761-cb3f-48d8-ce86-749fd2506ee2",
        "colab": {
          "base_uri": "https://localhost:8080/",
          "height": 34
        }
      },
      "source": [
        "import cv2\n",
        "import numpy as np\n",
        "\n",
        "img = cv2.imread(\"renketsu.png\").astype(np.float32)\n",
        "H, W, C = img.shape\n",
        "\n",
        "_tmp = np.zeros((H, W), dtype=np.int)\n",
        "_tmp[img[..., 0]>0] = 1\n",
        "#01を反転させて処理するために初めから反転させておく\n",
        "tmp = 1 - _tmp\n",
        "\n",
        "out = np.zeros((H, W, 3), dtype=np.uint8)\n",
        "\n",
        "for y in range(H):\n",
        "    for x in range(W):\n",
        "        if _tmp[y, x] < 1:\n",
        "            continue\n",
        " #分類がCの値（0~4）でできる           \n",
        "        c = 0\n",
        "        c += (tmp[y,min(x+1,W-1)] - tmp[y,min(x+1,W-1)] * tmp[max(y-1,0),min(x+1,W-1)] * tmp[max(y-1,0),x])\n",
        "        c += (tmp[max(y-1,0),x] - tmp[max(y-1,0),x] * tmp[max(y-1,0),max(x-1,0)] * tmp[y,max(x-1,0)])\n",
        "        c += (tmp[y,max(x-1,0)] - tmp[y,max(x-1,0)] * tmp[min(y+1,H-1),max(x-1,0)] * tmp[min(y+1,H-1),x])\n",
        "        c += (tmp[min(y+1,H-1),x] - tmp[min(y+1,H-1),x] * tmp[min(y+1,H-1),min(x+1,W-1)] * tmp[y,min(x+1,W-1)])\n",
        "#色付\n",
        "        if c == 0:\n",
        "            out[y,x] = [0, 0, 255]\n",
        "        elif c == 1:\n",
        "            out[y,x] = [0, 255, 0]\n",
        "        elif c == 2:\n",
        "            out[y,x] = [255, 0, 0]\n",
        "        elif c == 3:\n",
        "            out[y,x] = [255, 255, 0]\n",
        "        elif c == 4:\n",
        "            out[y,x] = [255, 0, 255]\n",
        "                \n",
        "out = out.astype(np.uint8)\n",
        "cv2_imshow(out)"
      ],
      "execution_count": 0,
      "outputs": [
        {
          "output_type": "display_data",
          "data": {
            "image/png": "[encoded data removed]",
            "text/plain": [
              "<PIL.Image.Image image mode=RGB size=10x10 at 0x7FC04ECFBF98>"
            ]
          },
          "metadata": {
            "tags": []
          }
        }
      ]
    },
    {
      "cell_type": "markdown",
      "metadata": {
        "id": "00i-y4qUDpSa",
        "colab_type": "text"
      },
      "source": [
        "#63 細線化処理"
      ]
    },
    {
      "cell_type": "code",
      "metadata": {
        "id": "L6OUC8AiATcV",
        "colab_type": "code",
        "outputId": "0c8e1d2a-63f2-46cf-d243-1a76bb3ce0e4",
        "colab": {
          "base_uri": "https://localhost:8080/",
          "height": 117
        }
      },
      "source": [
        "import cv2\n",
        "import numpy as np\n",
        "\n",
        "img = cv2.imread(\"gazo.png\").astype(np.float32)\n",
        "H, W, C = img.shape\n",
        "\n",
        "out = np.zeros((H, W), dtype=np.int)\n",
        "out[img[..., 0] > 0] = 1\n",
        "\n",
        "count = 1\n",
        "while count > 0:\n",
        "    count = 0\n",
        "    tmp = out.copy()\n",
        "    \n",
        "    for y in range(H):\n",
        "        for x in range(W):\n",
        "            if out[y, x] < 1:\n",
        "                continue\n",
        "            judge = 0\n",
        "            \n",
        "            ## condition 1\n",
        "            if (tmp[y,min(x+1,W-1)] + tmp[max(y-1,0), x] + tmp[y,max(x-1,0)] + tmp[min(y+1,H-1),x]) < 4:\n",
        "                judge += 1\n",
        "            \n",
        "            ## condition 2\n",
        "            c = 0\n",
        "            c += (tmp[y,min(x+1,W-1)] - tmp[y,min(x+1,W-1)]*tmp[max(y-1,0),min(x+1,W-1)]*tmp[max(y-1,0),x])\n",
        "            c += (tmp[max(y-1,0),x] - tmp[max(y-1,0),x]*tmp[max(y-1,0),max(x-1,0)]*tmp[y,max(x-1,0)])\n",
        "            c += (tmp[y,max(x-1,0)] - tmp[y,max(x-1,0)]*tmp[min(y+1,H-1),max(x-1,0)]*tmp[min(y+1,H-1),x])\n",
        "            c += (tmp[min(y+1,H-1),x] - tmp[min(y+1,H-1),x]*tmp[min(y+1,H-1),min(x+1,W-1)]*tmp[y,min(x+1,W-1)])\n",
        "            if c == 1:\n",
        "                judge += 1\n",
        "            \n",
        "            ## condition 3\n",
        "            if np.sum(tmp[max(y-1,0):min(y+2,H), max(x-1,0):min(x+2,W)]) >= 4:\n",
        "                judge += 1\n",
        "            \n",
        "            if judge == 3:\n",
        "                out[y,x] = 0\n",
        "                count += 1\n",
        "                \n",
        "out = out.astype(np.uint8) * 255\n",
        "cv2_imshow(out)"
      ],
      "execution_count": 0,
      "outputs": [
        {
          "output_type": "display_data",
          "data": {
            "image/png": "[encoded data removed]",
            "text/plain": [
              "<PIL.Image.Image image mode=L size=200x100 at 0x7FC04ECF4C88>"
            ]
          },
          "metadata": {
            "tags": []
          }
        }
      ]
    },
    {
      "cell_type": "markdown",
      "metadata": {
        "id": "W2rJno3hJvhd",
        "colab_type": "text"
      },
      "source": [
        "#64 ヒルディッチの細線化"
      ]
    },
    {
      "cell_type": "code",
      "metadata": {
        "id": "Z5v6_IinJvOU",
        "colab_type": "code",
        "outputId": "7363f496-4914-4505-fe7d-984aedf1776b",
        "colab": {
          "base_uri": "https://localhost:8080/",
          "height": 117
        }
      },
      "source": [
        "import cv2\n",
        "import numpy as np\n",
        "import matplotlib.pyplot as plt\n",
        "\n",
        "# Read image\n",
        "img = cv2.imread(\"gazo.png\").astype(np.float32)\n",
        "H, W, C = img.shape\n",
        "\n",
        "out = np.zeros((H, W), dtype=np.int)\n",
        "out[img[..., 0]>0] = 1\n",
        "\n",
        "tmp = out.copy()\n",
        "_tmp = 1 - tmp\n",
        "\n",
        "\n",
        "count = 1\n",
        "while count > 0:\n",
        "    count = 0\n",
        "    tmp = out.copy()\n",
        "    _tmp = 1 - tmp\n",
        "    tmp2 = out.copy()\n",
        "    _tmp2 = 1 - tmp2\n",
        "\n",
        "    for y in range(H):\n",
        "        for x in range(W):\n",
        "            if out[y, x] < 1:\n",
        "                continue\n",
        "            judge = 0\n",
        "            ## condition 1   注目画素の4近傍に0が一つ以上存在する\n",
        "            if (tmp[y, min(x+1, W-1)] * tmp[max(y-1, 0), x] * tmp[y, max(x-1, 0)] * tmp[min(y+1, H-1), x]) == 0:\n",
        "                judge += 1\n",
        "            \n",
        "            ## condition 2   x0の8-連結数が1である\n",
        "            c = 0\n",
        "            c += (_tmp[y, min(x+1, W-1)] - _tmp[y, min(x+1, W-1)] * _tmp[max(y-1, 0), min(x+1, W-1)] * _tmp[max(y-1, 0), x])\n",
        "            c += (_tmp[max(y-1,0),x] - _tmp[max(y-1,0),x] * _tmp[max(y-1,0),max(x-1,0)] * _tmp[y,max(x-1,0)])\n",
        "            c += (_tmp[y,max(x-1,0)] - _tmp[y,max(x-1,0)] * _tmp[min(y+1,H-1),max(x-1,0)] * _tmp[min(y+1,H-1),x])\n",
        "            c += (_tmp[min(y+1,H-1),x] - _tmp[min(y+1,H-1),x] * _tmp[min(y+1,H-1),min(x+1,W-1)] * _tmp[y,min(x+1,W-1)])\n",
        "            if c == 1:\n",
        "                judge += 1\n",
        "                \n",
        "            ## condition 3   x1〜x8の絶対値の合計が2以上\n",
        "            if np.sum(tmp[max(y-1,0):min(y+2,H), max(x-1,0):min(x+2,W)]) >= 3:\n",
        "                judge += 1\n",
        "\n",
        "            ## condition 4   x0の8近傍に1が1つ以上存在する\n",
        "            if np.sum(out[max(y-1,0):min(y+2,H), max(x-1,0):min(x+2,W)]) >= 2:\n",
        "                judge += 1\n",
        "\n",
        "            ## condition 5   xn(n=1〜8)全てに対して以下のどちらかが成り立つ\n",
        "            ###                   xnが-1以外\n",
        "            ###                   xnを0とした時、x0の8-連結数が1である\n",
        "            _tmp2 = 1-out\n",
        "\n",
        "            c = 0\n",
        "            c += (_tmp2[y,min(x+1,W-1)] - _tmp2[y,min(x+1,W-1)] * _tmp2[max(y-1,0),min(x+1,W-1)] * _tmp2[max(y-1,0),x])\n",
        "            c += (_tmp2[max(y-1,0),x] - _tmp2[max(y-1,0),x] * (1-tmp[max(y-1,0),max(x-1,0)]) * _tmp2[y,max(x-1,0)])\n",
        "            c += (_tmp2[y,max(x-1,0)] - _tmp2[y,max(x-1,0)] * _tmp2[min(y+1,H-1),max(x-1,0)] * _tmp2[min(y+1,H-1),x])\n",
        "            c += (_tmp2[min(y+1,H-1),x] - _tmp2[min(y+1,H-1),x] * _tmp2[min(y+1,H-1),min(x+1,W-1)] * _tmp2[y,min(x+1,W-1)])\n",
        "            if c == 1 or (out[max(y-1,0), max(x-1,0)] != tmp[max(y-1,0), max(x-1,0)]):\n",
        "                judge += 1\n",
        "\n",
        "            c = 0\n",
        "            c += (_tmp2[y,min(x+1,W-1)] - _tmp2[y,min(x+1,W-1)] * _tmp2[max(y-1,0),min(x+1,W-1)] * (1-tmp[max(y-1,0),x]))\n",
        "            c += ((1-tmp[max(y-1,0),x]) - (1-tmp[max(y-1,0),x]) * _tmp2[max(y-1,0),max(x-1,0)] * _tmp2[y,max(x-1,0)])\n",
        "            c += (_tmp2[y,max(x-1,0)] - _tmp2[y,max(x-1,0)] * _tmp2[min(y+1,H-1),max(x-1,0)] * _tmp2[min(y+1,H-1),x])\n",
        "            c += (_tmp2[min(y+1,H-1),x] - _tmp2[min(y+1,H-1),x] * _tmp2[min(y+1,H-1),min(x+1,W-1)] * _tmp2[y,min(x+1,W-1)])\n",
        "            if c == 1 or (out[max(y-1,0), x] != tmp[max(y-1,0), x]):\n",
        "                judge += 1\n",
        "\n",
        "            c = 0\n",
        "            c += (_tmp2[y,min(x+1,W-1)] - _tmp2[y,min(x+1,W-1)] * (1-tmp[max(y-1,0),min(x+1,W-1)]) * _tmp2[max(y-1,0),x])\n",
        "            c += (_tmp2[max(y-1,0),x] - _tmp2[max(y-1,0),x] * _tmp2[max(y-1,0),max(x-1,0)] * _tmp2[y,max(x-1,0)])\n",
        "            c += (_tmp2[y,max(x-1,0)] - _tmp2[y,max(x-1,0)] * _tmp2[min(y+1,H-1),max(x-1,0)] * _tmp2[min(y+1,H-1),x])\n",
        "            c += (_tmp2[min(y+1,H-1),x] - _tmp2[min(y+1,H-1),x] * _tmp2[min(y+1,H-1),min(x+1,W-1)] * _tmp2[y,min(x+1,W-1)])\n",
        "            if c == 1 or (out[max(y-1,0), min(x+1,W-1)] != tmp[max(y-1,0), min(x+1,W-1)]):\n",
        "                judge += 1\n",
        "\n",
        "            c = 0\n",
        "            c += (_tmp2[y,min(x+1,W-1)] - _tmp2[y,min(x+1,W-1)] * _tmp2[max(y-1,0),min(x+1,W-1)] * _tmp2[max(y-1,0),x])\n",
        "            c += (_tmp2[max(y-1,0),x] - _tmp2[max(y-1,0),x] * _tmp2[max(y-1,0),max(x-1,0)] * (1-tmp[y,max(x-1,0)]))\n",
        "            c += ((1-tmp[y,max(x-1,0)]) - (1-tmp[y,max(x-1,0)]) * _tmp2[min(y+1,H-1),max(x-1,0)] * _tmp2[min(y+1,H-1),x])\n",
        "            c += (_tmp2[min(y+1,H-1),x] - _tmp2[min(y+1,H-1),x] * _tmp2[min(y+1,H-1),min(x+1,W-1)] * _tmp2[y,min(x+1,W-1)])\n",
        "            if c == 1 or (out[y, max(x-1,0)] != tmp[y, max(x-1,0)]):\n",
        "                judge += 1\n",
        "            \n",
        "            if judge >= 8:\n",
        "                out[y,x] = 0\n",
        "                count += 1\n",
        "                \n",
        "out = out.astype(np.uint8) * 255\n",
        "cv2_imshow(out)"
      ],
      "execution_count": 0,
      "outputs": [
        {
          "output_type": "display_data",
          "data": {
            "image/png": "[encoded data removed]",
            "text/plain": [
              "<PIL.Image.Image image mode=L size=200x100 at 0x7FC04ECC93C8>"
            ]
          },
          "metadata": {
            "tags": []
          }
        }
      ]
    },
    {
      "cell_type": "markdown",
      "metadata": {
        "id": "qerkjDSuPVMm",
        "colab_type": "text"
      },
      "source": [
        "#65 Zhang-Suenの細線化"
      ]
    },
    {
      "cell_type": "code",
      "metadata": {
        "id": "gWVYeM96J-PV",
        "colab_type": "code",
        "outputId": "da028b40-7b68-4cc2-832f-1b790cd2338d",
        "colab": {
          "base_uri": "https://localhost:8080/",
          "height": 117
        }
      },
      "source": [
        "import cv2\n",
        "import numpy as np\n",
        "import matplotlib.pyplot as plt\n",
        "\n",
        "# Read image\n",
        "img = cv2.imread(\"gazo.png\").astype(np.float32)\n",
        "H, W, C = img.shape\n",
        "\n",
        "out = np.zeros((H, W), dtype=np.int)\n",
        "out[img[..., 0]>0] = 1\n",
        "\n",
        "out = 1 - out\n",
        "\n",
        "while True:\n",
        "    s1 = []\n",
        "    s2 = []\n",
        "\n",
        "    # step 1\n",
        "    for y in range(1, H-1):\n",
        "        for x in range(1, W-1):\n",
        "            \n",
        "            # condition 1\n",
        "            if out[y, x] > 0:\n",
        "                continue\n",
        "# condition 2\n",
        "            f1 = 0\n",
        "            if (out[y-1, x+1] - out[y-1, x]) == 1:\n",
        "                f1 += 1\n",
        "            if (out[y, x+1] - out[y-1, x+1]) == 1:\n",
        "                f1 += 1\n",
        "            if (out[y+1, x+1] - out[y, x+1]) == 1:\n",
        "                f1 += 1\n",
        "            if (out[y+1, x] - out[y+1,x+1]) == 1:\n",
        "                f1 += 1\n",
        "            if (out[y+1, x-1] - out[y+1, x]) == 1:\n",
        "                f1 += 1\n",
        "            if (out[y, x-1] - out[y+1, x-1]) == 1:\n",
        "                f1 += 1\n",
        "            if (out[y-1, x-1] - out[y, x-1]) == 1:\n",
        "                f1 += 1\n",
        "            if (out[y-1, x] - out[y-1, x-1]) == 1:\n",
        "                f1 += 1\n",
        "\n",
        "            if f1 != 1:\n",
        "                continue\n",
        "                \n",
        "            # condition 3\n",
        "            f2 = np.sum(out[y-1:y+2, x-1:x+2])\n",
        "            if f2 < 2 or f2 > 6:\n",
        "                continue\n",
        "            \n",
        "            # condition 4\n",
        "            if out[y-1, x] + out[y, x+1] + out[y+1, x] < 1:\n",
        "                continue\n",
        "\n",
        "            # condition 5\n",
        "            if out[y, x+1] + out[y+1, x] + out[y, x-1] < 1:\n",
        "                continue\n",
        "                \n",
        "            s1.append([y, x])\n",
        "\n",
        "    for v in s1:\n",
        "        out[v[0], v[1]] = 1\n",
        "\n",
        "    # step 2\n",
        "    for y in range(1, H-1):\n",
        "        for x in range(1, W-1):\n",
        "            \n",
        "            # condition 1\n",
        "            if out[y, x] > 0:\n",
        "                continue\n",
        "\n",
        "            # condition 2\n",
        "            f1 = 0\n",
        "            if (out[y-1, x+1] - out[y-1, x]) == 1:\n",
        "                f1 += 1\n",
        "            if (out[y, x+1] - out[y-1, x+1]) == 1:\n",
        "                f1 += 1\n",
        "            if (out[y+1, x+1] - out[y, x+1]) == 1:\n",
        "                f1 += 1\n",
        "            if (out[y+1, x] - out[y+1,x+1]) == 1:\n",
        "                f1 += 1\n",
        "            if (out[y+1, x-1] - out[y+1, x]) == 1:\n",
        "                f1 += 1\n",
        "            if (out[y, x-1] - out[y+1, x-1]) == 1:\n",
        "                f1 += 1\n",
        "            if (out[y-1, x-1] - out[y, x-1]) == 1:\n",
        "                f1 += 1\n",
        "            if (out[y-1, x] - out[y-1, x-1]) == 1:\n",
        "                f1 += 1\n",
        "\n",
        "            if f1 != 1:\n",
        "                continue\n",
        "                \n",
        "            # condition 3\n",
        "            f2 = np.sum(out[y-1:y+2, x-1:x+2])\n",
        "            if f2 < 2 or f2 > 6:\n",
        "                continue\n",
        "            \n",
        "            # condition 4\n",
        "            if out[y-1, x] + out[y, x+1] + out[y, x-1] < 1:\n",
        "                continue\n",
        "\n",
        "            # condition 5\n",
        "            if out[y-1, x] + out[y+1, x] + out[y, x-1] < 1:\n",
        "                continue\n",
        "                \n",
        "            s2.append([y, x])\n",
        "\n",
        "    for v in s2:\n",
        "        out[v[0], v[1]] = 1\n",
        "\n",
        "    if len(s1) < 1 and len(s2) < 1:\n",
        "        break\n",
        "\n",
        "out = 1 - out\n",
        "out = out.astype(np.uint8) * 255\n",
        "\n",
        "# Save result\n",
        "cv2_imshow(out)\n"
      ],
      "execution_count": 0,
      "outputs": [
        {
          "output_type": "display_data",
          "data": {
            "image/png": "[encoded data removed]",
            "text/plain": [
              "<PIL.Image.Image image mode=L size=200x100 at 0x7FC04ECF0438>"
            ]
          },
          "metadata": {
            "tags": []
          }
        }
      ]
    },
    {
      "cell_type": "markdown",
      "metadata": {
        "id": "QnEobDiZEgqA",
        "colab_type": "text"
      },
      "source": [
        "#66 HOG (Step.1) 勾配強度・勾配角度"
      ]
    },
    {
      "cell_type": "code",
      "metadata": {
        "id": "Bn_u4r3vGVfe",
        "colab_type": "code",
        "colab": {
          "base_uri": "https://localhost:8080/",
          "height": 273
        },
        "outputId": "f6d72e32-239e-42c6-bf6f-9ba24f44d728"
      },
      "source": [
        "import cv2\n",
        "import numpy as np\n",
        "\n",
        "img = cv2.imread(\"imori.jpg\").astype(np.float32)\n",
        "W, H, C = img.shape\n",
        "\n",
        "gray = 0.2126 * img[..., 2] + 0.7152 * img[..., 1] + 0.0722 * img[..., 0]\n",
        "\n",
        "gray = np.pad(gray, (1, 1), 'edge')\n",
        "gx = gray[1:H+1, 2:] - gray[1:H+1, :W]\n",
        "gy = gray[2:, 1:W+1] - gray[:H, 1:W+1]\n",
        "gx[gx == 0] = 0.000001\n",
        "\n",
        "mag = np.sqrt(gx ** 2 + gy ** 2)\n",
        "gra = np.arctan(gy / gx)\n",
        "gra[gra< 0] = np.pi / 2 + gra[gra<0] + np.pi / 2\n",
        "\n",
        "gra_n = np.zeros_like(gra, dtype=np.int)\n",
        "\n",
        "d = np.pi/ 9\n",
        "for i in range(9):\n",
        "    gra_n[np.where((gra >= d * i) & (gra <= d * (i+1)))] = i\n",
        "    \n",
        "_mag = (mag / mag.max() * 255).astype(np.uint8)\n",
        "\n",
        "cv2_imshow(_mag)\n",
        "\n",
        "out = np.zeros((W, H, 3), dtype=np.uint8)\n",
        "C = [[255, 0, 0], [0, 255, 0], [0, 0, 255], [255, 255, 0], [255, 0, 255], [0, 255, 255],\n",
        "     [127, 127, 0], [127, 0, 127], [0, 127, 127]]\n",
        "for i in range(9):\n",
        "    out[gra_n == i] = C[i]  \n",
        "\n",
        "cv2_imshow(out)"
      ],
      "execution_count": 4,
      "outputs": [
        {
          "output_type": "display_data",
          "data": {
            "image/png": "[encoded data removed]",
            "text/plain": [
              "<PIL.Image.Image image mode=L size=128x128 at 0x7F8CA8EFFFD0>"
            ]
          },
          "metadata": {
            "tags": []
          }
        },
        {
          "output_type": "display_data",
          "data": {
            "image/png": "[encoded data removed]",
            "text/plain": [
              "<PIL.Image.Image image mode=RGB size=128x128 at 0x7F8C947B8518>"
            ]
          },
          "metadata": {
            "tags": []
          }
        }
      ]
    }
  ]
}