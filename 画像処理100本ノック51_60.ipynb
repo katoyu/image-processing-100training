{
  "nbformat": 4,
  "nbformat_minor": 0,
  "metadata": {
    "colab": {
      "name": "画像処理100本ノック51-60.ipynb",
      "version": "0.3.2",
      "provenance": [],
      "collapsed_sections": [],
      "include_colab_link": true
    },
    "kernelspec": {
      "name": "python3",
      "display_name": "Python 3"
    }
  },
  "cells": [
    {
      "cell_type": "markdown",
      "metadata": {
        "id": "view-in-github",
        "colab_type": "text"
      },
      "source": [
        "<a href=\"https://colab.research.google.com/github/katoyu/image-processing-100training/blob/master/%E7%94%BB%E5%83%8F%E5%87%A6%E7%90%86100%E6%9C%AC%E3%83%8E%E3%83%83%E3%82%AF51_60.ipynb\" target=\"_parent\"><img src=\"https://colab.research.google.com/assets/colab-badge.svg\" alt=\"Open In Colab\"/></a>"
      ]
    },
    {
      "metadata": {
        "id": "w8yJR4qMZ11F",
        "colab_type": "code",
        "colab": {
          "base_uri": "https://localhost:8080/",
          "height": 765
        },
        "outputId": "fc8b600d-9f53-4900-a37b-b31d63b4ce65"
      },
      "cell_type": "code",
      "source": [
        "!wget https://raw.githubusercontent.com/yoyoyo-yo/Gasyori100knock/master/Question_51_60/imori.jpg\n",
        "!wget https://raw.githubusercontent.com/yoyoyo-yo/Gasyori100knock/master/Question_51_60/imori_part.jpg\n",
        "!wget https://raw.githubusercontent.com/yoyoyo-yo/Gasyori100knock/master/Question_51_60/seg.png\n",
        "!wget https://raw.githubusercontent.com/yoyoyo-yo/Gasyori100knock/master/Question_51_60/thorino.jpg\n",
        "  \n",
        "from google.colab.patches import cv2_imshow"
      ],
      "execution_count": 1,
      "outputs": [
        {
          "output_type": "stream",
          "text": [
            "--2019-04-28 14:45:25--  https://raw.githubusercontent.com/yoyoyo-yo/Gasyori100knock/master/Question_51_60/imori.jpg\n",
            "Resolving raw.githubusercontent.com (raw.githubusercontent.com)... 151.101.0.133, 151.101.64.133, 151.101.128.133, ...\n",
            "Connecting to raw.githubusercontent.com (raw.githubusercontent.com)|151.101.0.133|:443... connected.\n",
            "HTTP request sent, awaiting response... 200 OK\n",
            "Length: 12638 (12K) [image/jpeg]\n",
            "Saving to: ‘imori.jpg’\n",
            "\n",
            "\rimori.jpg             0%[                    ]       0  --.-KB/s               \rimori.jpg           100%[===================>]  12.34K  --.-KB/s    in 0s      \n",
            "\n",
            "2019-04-28 14:45:26 (138 MB/s) - ‘imori.jpg’ saved [12638/12638]\n",
            "\n",
            "--2019-04-28 14:45:27--  https://raw.githubusercontent.com/yoyoyo-yo/Gasyori100knock/master/Question_51_60/imori_part.jpg\n",
            "Resolving raw.githubusercontent.com (raw.githubusercontent.com)... 151.101.0.133, 151.101.64.133, 151.101.128.133, ...\n",
            "Connecting to raw.githubusercontent.com (raw.githubusercontent.com)|151.101.0.133|:443... connected.\n",
            "HTTP request sent, awaiting response... 200 OK\n",
            "Length: 993 [image/jpeg]\n",
            "Saving to: ‘imori_part.jpg’\n",
            "\n",
            "imori_part.jpg      100%[===================>]     993  --.-KB/s    in 0s      \n",
            "\n",
            "2019-04-28 14:45:27 (159 MB/s) - ‘imori_part.jpg’ saved [993/993]\n",
            "\n",
            "--2019-04-28 14:45:28--  https://raw.githubusercontent.com/yoyoyo-yo/Gasyori100knock/master/Question_51_60/seg.png\n",
            "Resolving raw.githubusercontent.com (raw.githubusercontent.com)... 151.101.0.133, 151.101.64.133, 151.101.128.133, ...\n",
            "Connecting to raw.githubusercontent.com (raw.githubusercontent.com)|151.101.0.133|:443... connected.\n",
            "HTTP request sent, awaiting response... 200 OK\n",
            "Length: 1342 (1.3K) [image/png]\n",
            "Saving to: ‘seg.png’\n",
            "\n",
            "seg.png             100%[===================>]   1.31K  --.-KB/s    in 0s      \n",
            "\n",
            "2019-04-28 14:45:28 (181 MB/s) - ‘seg.png’ saved [1342/1342]\n",
            "\n",
            "--2019-04-28 14:45:29--  https://raw.githubusercontent.com/yoyoyo-yo/Gasyori100knock/master/Question_51_60/thorino.jpg\n",
            "Resolving raw.githubusercontent.com (raw.githubusercontent.com)... 151.101.0.133, 151.101.64.133, 151.101.128.133, ...\n",
            "Connecting to raw.githubusercontent.com (raw.githubusercontent.com)|151.101.0.133|:443... connected.\n",
            "HTTP request sent, awaiting response... 200 OK\n",
            "Length: 13929 (14K) [image/jpeg]\n",
            "Saving to: ‘thorino.jpg’\n",
            "\n",
            "thorino.jpg         100%[===================>]  13.60K  --.-KB/s    in 0.01s   \n",
            "\n",
            "2019-04-28 14:45:29 (1.12 MB/s) - ‘thorino.jpg’ saved [13929/13929]\n",
            "\n"
          ],
          "name": "stdout"
        }
      ]
    },
    {
      "metadata": {
        "id": "EQFq-BD0aFiO",
        "colab_type": "text"
      },
      "cell_type": "markdown",
      "source": [
        "#51 モルフォロジー勾配\n",
        "大津の二値化→モルフォロジー勾配（モルフォロジ０膨張と収縮の画像の差分を取る）\n",
        "###物体の境界線を抽出できる"
      ]
    },
    {
      "metadata": {
        "id": "Tc6FGp3SaE0P",
        "colab_type": "code",
        "colab": {
          "base_uri": "https://localhost:8080/",
          "height": 162
        },
        "outputId": "ca6d6860-2d46-4056-d002-0eb5a7332a23"
      },
      "cell_type": "code",
      "source": [
        "import cv2\n",
        "import numpy as np\n",
        "\n",
        "img = cv2.imread(\"imori.jpg\").astype(np.float32)\n",
        "H, W, C = img.shape\n",
        "\n",
        "#大津の二値化\n",
        "out = 0.2126 * img[..., 2] + 0.7152 * img[..., 1] + 0.0722 * img[..., 0]\n",
        "out = out.astype(np.float32)\n",
        "\n",
        "max_sigma = 0\n",
        "max_t = 0\n",
        "for _t in range(1, 255):\n",
        "    v0 = out[np.where(out < _t)]\n",
        "    m0 = np.mean(v0) if len(v0) > 0 else 0.\n",
        "    w0  = len(v0) / (H * W)\n",
        "    v1 = out[np.where(out >= _t)]\n",
        "    m1 = np.mean(v1) if len(v1) > 0 else 0.\n",
        "    w1 = len(v1) / (H * W)\n",
        "    sigma = w0 * w1 * (m0 - m1) ** 2\n",
        "    if sigma > max_sigma:\n",
        "        max_sigma = sigma\n",
        "        max_t = _t\n",
        "\n",
        "##二値化\n",
        "print(\"threshold = \" +  str(max_t))\n",
        "th = max_t\n",
        "out[out < th] = 0\n",
        "out[out >= th] = 255\n",
        "\n",
        "#モルフォロジー処理\n",
        "dil_time = 1\n",
        "ero_time = 1\n",
        "MF = np.array(((0, 1, 0), \n",
        "                       (1, 0, 1),\n",
        "                       (0, 1, 0)), dtype=np.int)\n",
        "\n",
        "dil = out.copy()\n",
        "ero = out.copy()\n",
        "\n",
        "for i in range(dil_time):\n",
        "    #収縮\n",
        "    tmp = np.pad(out, (1, 1), 'edge')\n",
        "    for y in range(1, H+1):\n",
        "        for x in range(1, W+1):\n",
        "            if np.sum(MF * tmp[y-1:y+2, x-1:x+2]) < 255*4:\n",
        "                dil[y-1, x-1] = 0\n",
        "                \n",
        "for i in range(ero_time):\n",
        "    #膨張\n",
        "    tmp = np.pad(out, (1, 1), 'edge')\n",
        "    for y in range(1, H+1):\n",
        "        for x in range(1, W+1):\n",
        "            if np.sum(MF * tmp[y-1:y+2, x-1:x+2]) >= 255:\n",
        "                ero[y-1, x-1] = 255\n",
        "\n",
        "out = np.abs(dil - ero) * 255\n",
        "                \n",
        "cv2_imshow(out)"
      ],
      "execution_count": 3,
      "outputs": [
        {
          "output_type": "stream",
          "text": [
            "threshold = 127\n"
          ],
          "name": "stdout"
        },
        {
          "output_type": "display_data",
          "data": {
            "image/png": "[encoded data removed]",
            "text/plain": [
              "<PIL.Image.Image image mode=L size=128x128 at 0x7EFDD9E50FD0>"
            ]
          },
          "metadata": {
            "tags": []
          }
        }
      ]
    },
    {
      "metadata": {
        "id": "awK7p6MSa2NV",
        "colab_type": "text"
      },
      "cell_type": "markdown",
      "source": [
        "#52 トップハット変換\n",
        "大津の二値化→トップハット変換（元画像からオープニング処理された画像を差し引いたもの）\n",
        "\n",
        "###細い線状のものやノイズなどを抽出できる"
      ]
    },
    {
      "metadata": {
        "id": "4gPRlLu8asXr",
        "colab_type": "code",
        "colab": {
          "base_uri": "https://localhost:8080/",
          "height": 162
        },
        "outputId": "d500d6eb-ef6b-4313-cb5e-ad48b60fac9d"
      },
      "cell_type": "code",
      "source": [
        "import cv2\n",
        "import numpy as np\n",
        "\n",
        "img = cv2.imread(\"imori.jpg\").astype(np.float32)\n",
        "H, W, C = img.shape\n",
        "\n",
        "#大津の二値化\n",
        "gray = 0.2126 * img[..., 2] + 0.7152 * img[..., 1] + 0.0722 * img[..., 0]\n",
        "out = gray.astype(np.float32)\n",
        "\n",
        "max_sigma = 0\n",
        "max_t = 0\n",
        "for _t in range(1, 255):\n",
        "    v0 = out[np.where(out < _t)]\n",
        "    m0 = np.mean(v0) if len(v0) > 0 else 0.\n",
        "    w0  = len(v0) / (H * W)\n",
        "    v1 = out[np.where(out >= _t)]\n",
        "    m1 = np.mean(v1) if len(v1) > 0 else 0.\n",
        "    w1 = len(v1) / (H * W)\n",
        "    sigma = w0 * w1 * (m0 - m1) ** 2\n",
        "    if sigma > max_sigma:\n",
        "        max_sigma = sigma\n",
        "        max_t = _t\n",
        "\n",
        "##二値化\n",
        "print(\"threshold = \" +  str(max_t))\n",
        "th = max_t\n",
        "out[out < th] = 0\n",
        "out[out >= th] = 255\n",
        "\n",
        "#オープニング処理\n",
        "\n",
        "#モルフォロジー処理\n",
        "dil_time = 3\n",
        "ero_time = 3\n",
        "MF = np.array(((0, 1, 0), \n",
        "                       (1, 0, 1),\n",
        "                       (0, 1, 0)), dtype=np.int)\n",
        "mor = out.copy()\n",
        "\n",
        "\n",
        "for i in range(dil_time):\n",
        "    #収縮\n",
        "    tmp = np.pad(out, (1, 1), 'edge')\n",
        "    for y in range(1, H+1):\n",
        "        for x in range(1, W+1):\n",
        "            if np.sum(MF * tmp[y-1:y+2, x-1:x+2]) < 255*4:\n",
        "                mor[y-1, x-1] = 0\n",
        "                \n",
        "for i in range(ero_time):\n",
        "    #膨張\n",
        "    tmp = np.pad(mor, (1, 1), 'edge')\n",
        "    for y in range(1, H+1):\n",
        "        for x in range(1, W+1):\n",
        "            if np.sum(MF * tmp[y-1:y+2, x-1:x+2]) >= 255:\n",
        "                mor[y-1, x-1] = 255\n",
        "                \n",
        "out = out - mor\n",
        "\n",
        "cv2_imshow(out)"
      ],
      "execution_count": 14,
      "outputs": [
        {
          "output_type": "stream",
          "text": [
            "threshold = 127\n"
          ],
          "name": "stdout"
        },
        {
          "output_type": "display_data",
          "data": {
            "image/png": "[encoded data removed]",
            "text/plain": [
              "<PIL.Image.Image image mode=L size=128x128 at 0x7EFDD9D98D68>"
            ]
          },
          "metadata": {
            "tags": []
          }
        }
      ]
    },
    {
      "metadata": {
        "id": "dhT2isbPcpZ-",
        "colab_type": "text"
      },
      "cell_type": "markdown",
      "source": [
        "#53 ブラックハット変換\n",
        "大津の二値化→ブラックハット変換（クロージング画像から元画像を差し引いた画像）\n",
        "細い線やノイズを抽出できる"
      ]
    },
    {
      "metadata": {
        "id": "7IfqGDqIbYM8",
        "colab_type": "code",
        "colab": {
          "base_uri": "https://localhost:8080/",
          "height": 162
        },
        "outputId": "ebe547cf-18cb-4aad-de87-adec01f88b6c"
      },
      "cell_type": "code",
      "source": [
        "import cv2\n",
        "import numpy as np\n",
        "\n",
        "img = cv2.imread(\"imori.jpg\").astype(np.float32)\n",
        "H, W, C = img.shape\n",
        "\n",
        "#大津の二値化\n",
        "gray = 0.2126 * img[..., 2] + 0.7152 * img[..., 1] + 0.0722 * img[..., 0]\n",
        "out = gray.astype(np.float32)\n",
        "\n",
        "max_sigma = 0\n",
        "max_t = 0\n",
        "for _t in range(1, 255):\n",
        "    v0 = out[np.where(out < _t)]\n",
        "    m0 = np.mean(v0) if len(v0) > 0 else 0.\n",
        "    w0  = len(v0) / (H * W)\n",
        "    v1 = out[np.where(out >= _t)]\n",
        "    m1 = np.mean(v1) if len(v1) > 0 else 0.\n",
        "    w1 = len(v1) / (H * W)\n",
        "    sigma = w0 * w1 * (m0 - m1) ** 2\n",
        "    if sigma > max_sigma:\n",
        "        max_sigma = sigma\n",
        "        max_t = _t\n",
        "\n",
        "##二値化\n",
        "print(\"threshold = \" +  str(max_t))\n",
        "th = max_t\n",
        "out[out < th] = 0\n",
        "out[out >= th] = 255\n",
        "\n",
        "#オープニング処理\n",
        "\n",
        "#モルフォロジー処理\n",
        "dil_time = 3\n",
        "ero_time = 3\n",
        "MF = np.array(((0, 1, 0), \n",
        "                       (1, 0, 1),\n",
        "                       (0, 1, 0)), dtype=np.int)\n",
        "\n",
        "\n",
        "# Morphology - dilate\n",
        "Dil_time = 3\n",
        "mor = out.copy()\n",
        "\n",
        "for i in range(Dil_time):\n",
        "    tmp = np.pad(out, (1, 1), 'edge')\n",
        "    for y in range(1, H+1):\n",
        "        for x in range(1, W+1):\n",
        "            if np.sum(MF * tmp[y-1:y+2, x-1:x+2]) >= 255:\n",
        "                mor[y-1, x-1] = 255\n",
        "\n",
        "# Morphology - erode\n",
        "Erode_time = 3\n",
        "\n",
        "for i in range(Erode_time):\n",
        "    tmp = np.pad(mor, (1, 1), 'edge')\n",
        "    for y in range(1, H+1):\n",
        "        for x in range(1, W+1):\n",
        "            if np.sum(MF * tmp[y-1:y+2, x-1:x+2]) < 255*4:\n",
        "                mor[y-1, x-1] = 0\n",
        "\n",
        "out = mor - out\n",
        "\n",
        "\n",
        "cv2_imshow(out)"
      ],
      "execution_count": 18,
      "outputs": [
        {
          "output_type": "stream",
          "text": [
            "threshold = 127\n"
          ],
          "name": "stdout"
        },
        {
          "output_type": "display_data",
          "data": {
            "image/png": "[encoded data removed]",
            "text/plain": [
              "<PIL.Image.Image image mode=L size=128x128 at 0x7EFDD9DA2E80>"
            ]
          },
          "metadata": {
            "tags": []
          }
        }
      ]
    },
    {
      "metadata": {
        "id": "fcfJd0UScNMB",
        "colab_type": "code",
        "colab": {
          "base_uri": "https://localhost:8080/",
          "height": 145
        },
        "outputId": "d57a4042-902f-49b4-c458-6d7c80886350"
      },
      "cell_type": "code",
      "source": [
        "import cv2\n",
        "import numpy as np\n",
        "import matplotlib.pyplot as plt\n",
        "\n",
        "# Read image\n",
        "img = cv2.imread(\"imori.jpg\").astype(np.float32)\n",
        "H, W, C = img.shape\n",
        "\n",
        "# Otsu binary\n",
        "## Grayscale\n",
        "out = 0.2126 * img[..., 2] + 0.7152 * img[..., 1] + 0.0722 * img[..., 0]\n",
        "out = out.astype(np.uint8)\n",
        "\n",
        "## Determine threshold of Otsu's binarization\n",
        "max_sigma = 0\n",
        "max_t = 0\n",
        "\n",
        "for _t in range(1, 255):\n",
        "    v0 = out[np.where(out < _t)]\n",
        "    m0 = np.mean(v0) if len(v0) > 0 else 0.\n",
        "    w0 = len(v0) / (H * W)\n",
        "    v1 = out[np.where(out >= _t)]\n",
        "    m1 = np.mean(v1) if len(v1) > 0 else 0.\n",
        "    w1 = len(v1) / (H * W)\n",
        "    sigma = w0 * w1 * ((m0 - m1) ** 2)\n",
        "    if sigma > max_sigma:\n",
        "        max_sigma = sigma\n",
        "        max_t = _t\n",
        "\n",
        "## Binarization\n",
        "#print(\"threshold >>\", max_t)\n",
        "th = max_t\n",
        "out[out < th] = 0\n",
        "out[out >= th] = 255\n",
        "\n",
        "# Morphology filter\n",
        "MF = np.array(((0, 1, 0),\n",
        "                       (1, 0, 1),\n",
        "                       (0, 1, 0)), dtype=np.int)\n",
        "mor = out.copy()\n",
        "\n",
        "# Morphology - dilate\n",
        "Dil_time = 3\n",
        "\n",
        "for i in range(Dil_time):\n",
        "    tmp = np.pad(out, (1, 1), 'edge')\n",
        "    for y in range(1, H+1):\n",
        "        for x in range(1, W+1):\n",
        "            if np.sum(MF * tmp[y-1:y+2, x-1:x+2]) >= 255:\n",
        "                mor[y-1, x-1] = 255\n",
        "\n",
        "# Morphology - erode\n",
        "Erode_time = 3\n",
        "\n",
        "for i in range(Erode_time):\n",
        "    tmp = np.pad(mor, (1, 1), 'edge')\n",
        "    for y in range(1, H+1):\n",
        "        for x in range(1, W+1):\n",
        "            if np.sum(MF * tmp[y-1:y+2, x-1:x+2]) < 255*4:\n",
        "                mor[y-1, x-1] = 0\n",
        "\n",
        "out = mor - out\n",
        "\n",
        "cv2_imshow(out)"
      ],
      "execution_count": 19,
      "outputs": [
        {
          "output_type": "display_data",
          "data": {
            "image/png": "[encoded data removed]",
            "text/plain": [
              "<PIL.Image.Image image mode=L size=128x128 at 0x7EFDD9EC6A58>"
            ]
          },
          "metadata": {
            "tags": []
          }
        }
      ]
    },
    {
      "metadata": {
        "id": "VcqYvejDeExX",
        "colab_type": "text"
      },
      "cell_type": "markdown",
      "source": [
        "#60 アルファブレンド\n",
        "透過させた２枚の画像を重ね合わせる"
      ]
    },
    {
      "metadata": {
        "id": "uBGW1bHLdc0j",
        "colab_type": "code",
        "colab": {
          "base_uri": "https://localhost:8080/",
          "height": 145
        },
        "outputId": "678ac13a-8e0e-46ea-81bc-e6fa48a1517c"
      },
      "cell_type": "code",
      "source": [
        "import cv2\n",
        "import numpy as np\n",
        "\n",
        "imori = cv2.imread(\"imori.jpg\").astype(np.float32)\n",
        "thorino = cv2.imread(\"thorino.jpg\").astype(np.float32)\n",
        "\n",
        "a = 0.5\n",
        "out = imori * a + thorino * (1 - a)\n",
        "out = out.astype(np.uint8)\n",
        "\n",
        "cv2_imshow(out)"
      ],
      "execution_count": 21,
      "outputs": [
        {
          "output_type": "display_data",
          "data": {
            "image/png": "[encoded data removed]",
            "text/plain": [
              "<PIL.Image.Image image mode=RGB size=128x128 at 0x7EFDD9EC6D68>"
            ]
          },
          "metadata": {
            "tags": []
          }
        }
      ]
    },
    {
      "metadata": {
        "id": "-87YKLZWeivI",
        "colab_type": "code",
        "colab": {}
      },
      "cell_type": "code",
      "source": [
        ""
      ],
      "execution_count": 0,
      "outputs": []
    }
  ]
}